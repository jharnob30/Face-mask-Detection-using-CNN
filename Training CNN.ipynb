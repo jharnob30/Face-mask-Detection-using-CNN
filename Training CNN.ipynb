{
 "cells": [
  {
   "cell_type": "code",
   "execution_count": 1,
   "id": "43fc1102",
   "metadata": {},
   "outputs": [],
   "source": [
    "import numpy as np\n",
    "\n",
    "data=np.load('data.npy')\n",
    "target=np.load('target.npy')\n",
    "\n",
    "#loading the saved numpy arrays from \"data processing\" code"
   ]
  },
  {
   "cell_type": "code",
   "execution_count": 2,
   "id": "3461590a",
   "metadata": {},
   "outputs": [],
   "source": [
    "from keras.models import Sequential\n",
    "from keras.layers import Dense,Activation,Flatten,Dropout\n",
    "from keras.layers import Conv2D,MaxPooling2D\n",
    "from keras.callbacks import ModelCheckpoint\n",
    "\n",
    "model=Sequential()\n",
    "\n",
    "model.add(Conv2D(200,(3,3),input_shape=data.shape[1:]))\n",
    "model.add(Activation('relu'))\n",
    "model.add(MaxPooling2D(pool_size=(2,2)))\n",
    "#The first CNN layer followed by Relu and MaxPooling layers\n",
    "\n",
    "model.add(Conv2D(100,(3,3)))\n",
    "model.add(Activation('relu'))\n",
    "model.add(MaxPooling2D(pool_size=(2,2)))\n",
    "#The second convolution layer followed by Relu and MaxPooling layers\n",
    "\n",
    "\n",
    "model.add(Flatten())\n",
    "model.add(Dropout(0.5))\n",
    "#Flatten layer to stack the output convolutions from second convolution layer\n",
    "model.add(Dense(50,activation='relu'))\n",
    "#Dense layer of 64 neurons\n",
    "model.add(Dense(2,activation='softmax'))\n",
    "#The Final layer with two outputs for two categories\n",
    "\n",
    "model.compile(loss='categorical_crossentropy',optimizer='adam',metrics=['accuracy'])\n"
   ]
  },
  {
   "cell_type": "code",
   "execution_count": 3,
   "id": "a626d420",
   "metadata": {},
   "outputs": [],
   "source": [
    "from sklearn.model_selection import train_test_split\n",
    "\n",
    "train_data,test_data,train_target,test_target=train_test_split(data,target,test_size=0.1)\n",
    "\n",
    "#split dataset into training and testing"
   ]
  },
  {
   "cell_type": "code",
   "execution_count": 4,
   "id": "76e2c429",
   "metadata": {
    "scrolled": true
   },
   "outputs": [
    {
     "name": "stdout",
     "output_type": "stream",
     "text": [
      "Epoch 1/20\n",
      "135/135 [==============================] - 410s 3s/step - loss: 0.4566 - accuracy: 0.7775 - val_loss: 0.2922 - val_accuracy: 0.8766\n",
      "INFO:tensorflow:Assets written to: model-001.model\\assets\n",
      "Epoch 2/20\n",
      "135/135 [==============================] - 395s 3s/step - loss: 0.2194 - accuracy: 0.9074 - val_loss: 0.2006 - val_accuracy: 0.9230\n",
      "INFO:tensorflow:Assets written to: model-002.model\\assets\n",
      "Epoch 3/20\n",
      "135/135 [==============================] - 368s 3s/step - loss: 0.1820 - accuracy: 0.9248 - val_loss: 0.2184 - val_accuracy: 0.9128\n",
      "Epoch 4/20\n",
      "135/135 [==============================] - 337s 3s/step - loss: 0.1515 - accuracy: 0.9420 - val_loss: 0.1703 - val_accuracy: 0.9416\n",
      "INFO:tensorflow:Assets written to: model-004.model\\assets\n",
      "Epoch 5/20\n",
      "135/135 [==============================] - 335s 2s/step - loss: 0.1390 - accuracy: 0.9443 - val_loss: 0.1596 - val_accuracy: 0.9453\n",
      "INFO:tensorflow:Assets written to: model-005.model\\assets\n",
      "Epoch 6/20\n",
      "135/135 [==============================] - 334s 2s/step - loss: 0.1193 - accuracy: 0.9522 - val_loss: 0.1756 - val_accuracy: 0.9425\n",
      "Epoch 7/20\n",
      "135/135 [==============================] - 334s 2s/step - loss: 0.1112 - accuracy: 0.9573 - val_loss: 0.1588 - val_accuracy: 0.9332\n",
      "INFO:tensorflow:Assets written to: model-007.model\\assets\n",
      "Epoch 8/20\n",
      "135/135 [==============================] - 376s 3s/step - loss: 0.0988 - accuracy: 0.9613 - val_loss: 0.1355 - val_accuracy: 0.9508\n",
      "INFO:tensorflow:Assets written to: model-008.model\\assets\n",
      "Epoch 9/20\n",
      "135/135 [==============================] - 369s 3s/step - loss: 0.0822 - accuracy: 0.9682 - val_loss: 0.1415 - val_accuracy: 0.9453\n",
      "Epoch 10/20\n",
      "135/135 [==============================] - 402s 3s/step - loss: 0.0760 - accuracy: 0.9743 - val_loss: 0.1378 - val_accuracy: 0.9555\n",
      "Epoch 11/20\n",
      "135/135 [==============================] - 413s 3s/step - loss: 0.0626 - accuracy: 0.9756 - val_loss: 0.1391 - val_accuracy: 0.9564\n",
      "Epoch 12/20\n",
      "135/135 [==============================] - 396s 3s/step - loss: 0.0597 - accuracy: 0.9789 - val_loss: 0.1647 - val_accuracy: 0.9471\n",
      "Epoch 13/20\n",
      "135/135 [==============================] - 399s 3s/step - loss: 0.0560 - accuracy: 0.9787 - val_loss: 0.1569 - val_accuracy: 0.9527\n",
      "Epoch 14/20\n",
      "135/135 [==============================] - 380s 3s/step - loss: 0.0471 - accuracy: 0.9840 - val_loss: 0.1560 - val_accuracy: 0.9462\n",
      "Epoch 15/20\n",
      "135/135 [==============================] - 405s 3s/step - loss: 0.0432 - accuracy: 0.9859 - val_loss: 0.1403 - val_accuracy: 0.9592\n",
      "Epoch 16/20\n",
      "135/135 [==============================] - 380s 3s/step - loss: 0.0451 - accuracy: 0.9819 - val_loss: 0.1692 - val_accuracy: 0.9555\n",
      "Epoch 17/20\n",
      "135/135 [==============================] - 408s 3s/step - loss: 0.0399 - accuracy: 0.9849 - val_loss: 0.1551 - val_accuracy: 0.9583\n",
      "Epoch 18/20\n",
      "135/135 [==============================] - 383s 3s/step - loss: 0.0317 - accuracy: 0.9877 - val_loss: 0.1422 - val_accuracy: 0.9527\n",
      "Epoch 19/20\n",
      "135/135 [==============================] - 376s 3s/step - loss: 0.0321 - accuracy: 0.9882 - val_loss: 0.1915 - val_accuracy: 0.9564\n",
      "Epoch 20/20\n",
      "135/135 [==============================] - 380s 3s/step - loss: 0.0280 - accuracy: 0.9910 - val_loss: 0.1513 - val_accuracy: 0.9564\n"
     ]
    }
   ],
   "source": [
    "checkpoint = ModelCheckpoint('model-{epoch:03d}.model',monitor='val_loss',verbose=0,save_best_only=True,mode='auto')\n",
    "#monitor the validation loss and save the best model per epoch \n",
    "history=model.fit(train_data,train_target,epochs=20,callbacks=[checkpoint],validation_split=0.2)\n",
    "#train the NN"
   ]
  },
  {
   "cell_type": "code",
   "execution_count": null,
   "id": "37b7452e",
   "metadata": {
    "scrolled": true
   },
   "outputs": [],
   "source": [
    "print(model.evaluate(test_data,test_target))"
   ]
  },
  {
   "cell_type": "code",
   "execution_count": null,
   "id": "62fb42b6",
   "metadata": {},
   "outputs": [],
   "source": [
    "from matplotlib import pyplot as plt\n",
    "\n",
    "plt.plot(history.history['loss'],'r',label='training loss')\n",
    "plt.plot(history.history['val_loss'],label='validation loss')\n",
    "plt.xlabel('# epochs')\n",
    "plt.ylabel('loss')\n",
    "plt.legend()\n",
    "plt.show()\n",
    "\n",
    "\n",
    "plt.plot(history.history['accuracy'],'r',label='training accuracy')\n",
    "plt.plot(history.history['val_accuracy'],label='validation accuracy')\n",
    "plt.xlabel('# epochs')\n",
    "plt.ylabel('loss')\n",
    "plt.legend()\n",
    "plt.show()"
   ]
  },
  {
   "cell_type": "code",
   "execution_count": null,
   "id": "a3f92ff3",
   "metadata": {},
   "outputs": [],
   "source": [
    "from sklearn.metrics import f1_score, precision_score, recall_score, confusion_matrix\n",
    "y_pred1 = model.predict(test_data)\n",
    "y_pred = np.argmax(y_pred1, axis=1)\n",
    "\n",
    "# Print f1, precision, and recall scores\n",
    "print(precision_score(test_target, y_pred , average=\"macro\"))\n",
    "print(recall_score(test_target, y_pred , average=\"macro\"))\n",
    "print(f1_score(test_target, y_pred , average=\"macro\"))"
   ]
  }
 ],
 "metadata": {
  "kernelspec": {
   "display_name": "Python 3",
   "language": "python",
   "name": "python3"
  },
  "language_info": {
   "codemirror_mode": {
    "name": "ipython",
    "version": 3
   },
   "file_extension": ".py",
   "mimetype": "text/x-python",
   "name": "python",
   "nbconvert_exporter": "python",
   "pygments_lexer": "ipython3",
   "version": "3.8.8"
  }
 },
 "nbformat": 4,
 "nbformat_minor": 5
}
